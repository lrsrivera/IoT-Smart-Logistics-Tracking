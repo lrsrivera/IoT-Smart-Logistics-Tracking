{
 "cells": [
  {
   "cell_type": "code",
   "execution_count": 1,
   "id": "acffafba",
   "metadata": {},
   "outputs": [
    {
     "name": "stdout",
     "output_type": "stream",
     "text": [
      "✅ Connected to Ganache successfully!\n"
     ]
    }
   ],
   "source": [
    "from web3 import Web3\n",
    "\n",
    "# Connect to local Ganache blockchain\n",
    "ganache_url = \"http://127.0.0.1:7545\"  # Change port if needed\n",
    "web3 = Web3(Web3.HTTPProvider(ganache_url))\n",
    "\n",
    "# Check connection\n",
    "if web3.is_connected():\n",
    "    print(\"✅ Connected to Ganache successfully!\")\n",
    "else:\n",
    "    print(\"❌ Connection failed. Ensure Ganache is running.\")"
   ]
  },
  {
   "cell_type": "code",
   "execution_count": 2,
   "id": "d6936769",
   "metadata": {},
   "outputs": [
    {
     "name": "stdout",
     "output_type": "stream",
     "text": [
      "✅ Connected to Smart Contract at 0x473265c5f420d1AA5F9686F9A31aF0f3B1190EEE\n"
     ]
    }
   ],
   "source": [
    "# Replace with your actual contract address\n",
    "contract_address = \"0x473265c5f420d1AA5F9686F9A31aF0f3B1190EEE\"\n",
    "\n",
    "# abi here please!!\n",
    "abi = [\n",
    "    \n",
    "\t{\n",
    "\t\t\"inputs\": [],\n",
    "\t\t\"stateMutability\": \"nonpayable\",\n",
    "\t\t\"type\": \"constructor\"\n",
    "\t},\n",
    "\t{\n",
    "\t\t\"anonymous\": False,\n",
    "\t\t\"inputs\": [\n",
    "\t\t\t{\n",
    "\t\t\t\t\"indexed\": False,\n",
    "\t\t\t\t\"internalType\": \"string\",\n",
    "\t\t\t\t\"name\": \"packageId\",\n",
    "\t\t\t\t\"type\": \"string\"\n",
    "\t\t\t},\n",
    "\t\t\t{\n",
    "\t\t\t\t\"indexed\": False,\n",
    "\t\t\t\t\"internalType\": \"uint256\",\n",
    "\t\t\t\t\"name\": \"timestamp\",\n",
    "\t\t\t\t\"type\": \"uint256\"\n",
    "\t\t\t},\n",
    "\t\t\t{\n",
    "\t\t\t\t\"indexed\": False,\n",
    "\t\t\t\t\"internalType\": \"string\",\n",
    "\t\t\t\t\"name\": \"city\",\n",
    "\t\t\t\t\"type\": \"string\"\n",
    "\t\t\t},\n",
    "\t\t\t{\n",
    "\t\t\t\t\"indexed\": False,\n",
    "\t\t\t\t\"internalType\": \"int256\",\n",
    "\t\t\t\t\"name\": \"latitude\",\n",
    "\t\t\t\t\"type\": \"int256\"\n",
    "\t\t\t},\n",
    "\t\t\t{\n",
    "\t\t\t\t\"indexed\": False,\n",
    "\t\t\t\t\"internalType\": \"int256\",\n",
    "\t\t\t\t\"name\": \"longitude\",\n",
    "\t\t\t\t\"type\": \"int256\"\n",
    "\t\t\t},\n",
    "\t\t\t{\n",
    "\t\t\t\t\"indexed\": False,\n",
    "\t\t\t\t\"internalType\": \"int256\",\n",
    "\t\t\t\t\"name\": \"temperatureCelsius\",\n",
    "\t\t\t\t\"type\": \"int256\"\n",
    "\t\t\t},\n",
    "\t\t\t{\n",
    "\t\t\t\t\"indexed\": False,\n",
    "\t\t\t\t\"internalType\": \"string\",\n",
    "\t\t\t\t\"name\": \"status\",\n",
    "\t\t\t\t\"type\": \"string\"\n",
    "\t\t\t}\n",
    "\t\t],\n",
    "\t\t\"name\": \"PackageUpdated\",\n",
    "\t\t\"type\": \"event\"\n",
    "\t},\n",
    "\t{\n",
    "\t\t\"inputs\": [\n",
    "\t\t\t{\n",
    "\t\t\t\t\"internalType\": \"string\",\n",
    "\t\t\t\t\"name\": \"packageId\",\n",
    "\t\t\t\t\"type\": \"string\"\n",
    "\t\t\t},\n",
    "\t\t\t{\n",
    "\t\t\t\t\"internalType\": \"string\",\n",
    "\t\t\t\t\"name\": \"city\",\n",
    "\t\t\t\t\"type\": \"string\"\n",
    "\t\t\t},\n",
    "\t\t\t{\n",
    "\t\t\t\t\"internalType\": \"int256\",\n",
    "\t\t\t\t\"name\": \"latitude\",\n",
    "\t\t\t\t\"type\": \"int256\"\n",
    "\t\t\t},\n",
    "\t\t\t{\n",
    "\t\t\t\t\"internalType\": \"int256\",\n",
    "\t\t\t\t\"name\": \"longitude\",\n",
    "\t\t\t\t\"type\": \"int256\"\n",
    "\t\t\t},\n",
    "\t\t\t{\n",
    "\t\t\t\t\"internalType\": \"int256\",\n",
    "\t\t\t\t\"name\": \"temperatureCelsius\",\n",
    "\t\t\t\t\"type\": \"int256\"\n",
    "\t\t\t},\n",
    "\t\t\t{\n",
    "\t\t\t\t\"internalType\": \"string\",\n",
    "\t\t\t\t\"name\": \"status\",\n",
    "\t\t\t\t\"type\": \"string\"\n",
    "\t\t\t}\n",
    "\t\t],\n",
    "\t\t\"name\": \"storeUpdate\",\n",
    "\t\t\"outputs\": [],\n",
    "\t\t\"stateMutability\": \"nonpayable\",\n",
    "\t\t\"type\": \"function\"\n",
    "\t},\n",
    "\t{\n",
    "\t\t\"inputs\": [],\n",
    "\t\t\"name\": \"getAllPackageIds\",\n",
    "\t\t\"outputs\": [\n",
    "\t\t\t{\n",
    "\t\t\t\t\"internalType\": \"string[]\",\n",
    "\t\t\t\t\"name\": \"\",\n",
    "\t\t\t\t\"type\": \"string[]\"\n",
    "\t\t\t}\n",
    "\t\t],\n",
    "\t\t\"stateMutability\": \"view\",\n",
    "\t\t\"type\": \"function\"\n",
    "\t},\n",
    "\t{\n",
    "\t\t\"inputs\": [\n",
    "\t\t\t{\n",
    "\t\t\t\t\"internalType\": \"string\",\n",
    "\t\t\t\t\"name\": \"packageId\",\n",
    "\t\t\t\t\"type\": \"string\"\n",
    "\t\t\t}\n",
    "\t\t],\n",
    "\t\t\"name\": \"getLatestUpdate\",\n",
    "\t\t\"outputs\": [\n",
    "\t\t\t{\n",
    "\t\t\t\t\"internalType\": \"uint256\",\n",
    "\t\t\t\t\"name\": \"timestamp\",\n",
    "\t\t\t\t\"type\": \"uint256\"\n",
    "\t\t\t},\n",
    "\t\t\t{\n",
    "\t\t\t\t\"internalType\": \"string\",\n",
    "\t\t\t\t\"name\": \"city\",\n",
    "\t\t\t\t\"type\": \"string\"\n",
    "\t\t\t},\n",
    "\t\t\t{\n",
    "\t\t\t\t\"internalType\": \"int256\",\n",
    "\t\t\t\t\"name\": \"latitude\",\n",
    "\t\t\t\t\"type\": \"int256\"\n",
    "\t\t\t},\n",
    "\t\t\t{\n",
    "\t\t\t\t\"internalType\": \"int256\",\n",
    "\t\t\t\t\"name\": \"longitude\",\n",
    "\t\t\t\t\"type\": \"int256\"\n",
    "\t\t\t},\n",
    "\t\t\t{\n",
    "\t\t\t\t\"internalType\": \"int256\",\n",
    "\t\t\t\t\"name\": \"temperatureCelsius\",\n",
    "\t\t\t\t\"type\": \"int256\"\n",
    "\t\t\t},\n",
    "\t\t\t{\n",
    "\t\t\t\t\"internalType\": \"string\",\n",
    "\t\t\t\t\"name\": \"status\",\n",
    "\t\t\t\t\"type\": \"string\"\n",
    "\t\t\t}\n",
    "\t\t],\n",
    "\t\t\"stateMutability\": \"view\",\n",
    "\t\t\"type\": \"function\"\n",
    "\t},\n",
    "\t{\n",
    "\t\t\"inputs\": [\n",
    "\t\t\t{\n",
    "\t\t\t\t\"internalType\": \"string\",\n",
    "\t\t\t\t\"name\": \"packageId\",\n",
    "\t\t\t\t\"type\": \"string\"\n",
    "\t\t\t},\n",
    "\t\t\t{\n",
    "\t\t\t\t\"internalType\": \"uint256\",\n",
    "\t\t\t\t\"name\": \"index\",\n",
    "\t\t\t\t\"type\": \"uint256\"\n",
    "\t\t\t}\n",
    "\t\t],\n",
    "\t\t\"name\": \"getUpdateByIndex\",\n",
    "\t\t\"outputs\": [\n",
    "\t\t\t{\n",
    "\t\t\t\t\"internalType\": \"uint256\",\n",
    "\t\t\t\t\"name\": \"timestamp\",\n",
    "\t\t\t\t\"type\": \"uint256\"\n",
    "\t\t\t},\n",
    "\t\t\t{\n",
    "\t\t\t\t\"internalType\": \"string\",\n",
    "\t\t\t\t\"name\": \"city\",\n",
    "\t\t\t\t\"type\": \"string\"\n",
    "\t\t\t},\n",
    "\t\t\t{\n",
    "\t\t\t\t\"internalType\": \"int256\",\n",
    "\t\t\t\t\"name\": \"latitude\",\n",
    "\t\t\t\t\"type\": \"int256\"\n",
    "\t\t\t},\n",
    "\t\t\t{\n",
    "\t\t\t\t\"internalType\": \"int256\",\n",
    "\t\t\t\t\"name\": \"longitude\",\n",
    "\t\t\t\t\"type\": \"int256\"\n",
    "\t\t\t},\n",
    "\t\t\t{\n",
    "\t\t\t\t\"internalType\": \"int256\",\n",
    "\t\t\t\t\"name\": \"temperatureCelsius\",\n",
    "\t\t\t\t\"type\": \"int256\"\n",
    "\t\t\t},\n",
    "\t\t\t{\n",
    "\t\t\t\t\"internalType\": \"string\",\n",
    "\t\t\t\t\"name\": \"status\",\n",
    "\t\t\t\t\"type\": \"string\"\n",
    "\t\t\t}\n",
    "\t\t],\n",
    "\t\t\"stateMutability\": \"view\",\n",
    "\t\t\"type\": \"function\"\n",
    "\t},\n",
    "\t{\n",
    "\t\t\"inputs\": [\n",
    "\t\t\t{\n",
    "\t\t\t\t\"internalType\": \"string\",\n",
    "\t\t\t\t\"name\": \"packageId\",\n",
    "\t\t\t\t\"type\": \"string\"\n",
    "\t\t\t}\n",
    "\t\t],\n",
    "\t\t\"name\": \"getUpdateCount\",\n",
    "\t\t\"outputs\": [\n",
    "\t\t\t{\n",
    "\t\t\t\t\"internalType\": \"uint256\",\n",
    "\t\t\t\t\"name\": \"\",\n",
    "\t\t\t\t\"type\": \"uint256\"\n",
    "\t\t\t}\n",
    "\t\t],\n",
    "\t\t\"stateMutability\": \"view\",\n",
    "\t\t\"type\": \"function\"\n",
    "\t},\n",
    "\t{\n",
    "\t\t\"inputs\": [],\n",
    "\t\t\"name\": \"MAX_ENTRIES\",\n",
    "\t\t\"outputs\": [\n",
    "\t\t\t{\n",
    "\t\t\t\t\"internalType\": \"uint256\",\n",
    "\t\t\t\t\"name\": \"\",\n",
    "\t\t\t\t\"type\": \"uint256\"\n",
    "\t\t\t}\n",
    "\t\t],\n",
    "\t\t\"stateMutability\": \"view\",\n",
    "\t\t\"type\": \"function\"\n",
    "\t},\n",
    "\t{\n",
    "\t\t\"inputs\": [],\n",
    "\t\t\"name\": \"owner\",\n",
    "\t\t\"outputs\": [\n",
    "\t\t\t{\n",
    "\t\t\t\t\"internalType\": \"address\",\n",
    "\t\t\t\t\"name\": \"\",\n",
    "\t\t\t\t\"type\": \"address\"\n",
    "\t\t\t}\n",
    "\t\t],\n",
    "\t\t\"stateMutability\": \"view\",\n",
    "\t\t\"type\": \"function\"\n",
    "\t}\n",
    "\n",
    "]\n",
    "\n",
    "# Load the smart contract\n",
    "contract = web3.eth.contract(address=contract_address, abi=abi)\n",
    "\n",
    "# Set the default sender address (first account from Ganache)\n",
    "web3.eth.default_account = web3.eth.accounts[0]\n",
    "\n",
    "print(f\"✅ Connected to Smart Contract at {contract_address}\")"
   ]
  },
  {
   "cell_type": "code",
   "execution_count": 3,
   "id": "602acda2",
   "metadata": {},
   "outputs": [
    {
     "name": "stdout",
     "output_type": "stream",
     "text": [
      "✅ Sample data stored on blockchain!\n"
     ]
    }
   ],
   "source": [
    "#sample logistics update\n",
    "txn = contract.functions.storeUpdate(\n",
    "    \"TESTPKG001\",      # packageId\n",
    "    \"Pasig\",           # city\n",
    "    145764000,         # latitude (14.5764000 * 1e7)\n",
    "    1210851000,        # longitude (121.0851000 * 1e7)\n",
    "    250,               # temperatureCelsius (25.0°C * 10)\n",
    "    \"in transit\"       # status\n",
    ").transact({\n",
    "    'from': web3.eth.default_account,\n",
    "    'gas': 1000000\n",
    "})\n",
    "web3.eth.wait_for_transaction_receipt(txn)\n",
    "print(\"✅ Sample data stored on blockchain!\")"
   ]
  },
  {
   "cell_type": "code",
   "execution_count": 5,
   "id": "9765b2b6",
   "metadata": {},
   "outputs": [
    {
     "name": "stdout",
     "output_type": "stream",
     "text": [
      "✅ Dummy data stored on blockchain!\n"
     ]
    }
   ],
   "source": [
    "# Store a dummy logistics update\n",
    "txn = contract.functions.storeUpdate(\n",
    "    \"TESTPKG001\",      # packageId\n",
    "    \"Pasig\",           # city\n",
    "    145764000,         # latitude (14.5764000 * 1e7)\n",
    "    1210851000,        # longitude (121.0851000 * 1e7)\n",
    "    250,               # temperatureCelsius (25.0°C * 10)\n",
    "    \"in transit\"       # status\n",
    ").transact({\n",
    "    'from': web3.eth.default_account,\n",
    "    'gas': 1000000\n",
    "})\n",
    "web3.eth.wait_for_transaction_receipt(txn)\n",
    "print(\"✅ Dummy data stored on blockchain!\")"
   ]
  },
  {
   "cell_type": "code",
   "execution_count": 6,
   "id": "f012b8af",
   "metadata": {},
   "outputs": [
    {
     "name": "stdout",
     "output_type": "stream",
     "text": [
      "Latest update for TESTPKG001:\n",
      "Timestamp: 1749392182\n",
      "City: Pasig\n",
      "Latitude: 14.5764\n",
      "Longitude: 121.0851\n",
      "Temperature (°C): 25.0\n",
      "Status: in transit\n"
     ]
    }
   ],
   "source": [
    "# Retrieve the latest update for the test package\n",
    "latest_update = contract.functions.getLatestUpdate(\"TESTPKG001\").call()\n",
    "print(\"Latest update for TESTPKG001:\")\n",
    "print(\"Timestamp:\", latest_update[0])\n",
    "print(\"City:\", latest_update[1])\n",
    "print(\"Latitude:\", latest_update[2] / 1e7)\n",
    "print(\"Longitude:\", latest_update[3] / 1e7)\n",
    "print(\"Temperature (°C):\", latest_update[4] / 10)\n",
    "print(\"Status:\", latest_update[5])"
   ]
  },
  {
   "cell_type": "code",
   "execution_count": 7,
   "id": "f9f8d4e3",
   "metadata": {},
   "outputs": [
    {
     "name": "stdout",
     "output_type": "stream",
     "text": [
      "Total Records Before Storing Data: 2\n"
     ]
    }
   ],
   "source": [
    "count = contract.functions.getUpdateCount(\"TESTPKG001\").call()\n",
    "print(\"Total Records Before Storing Data:\", count)"
   ]
  },
  {
   "cell_type": "code",
   "execution_count": 8,
   "id": "daeab307",
   "metadata": {},
   "outputs": [
    {
     "name": "stdout",
     "output_type": "stream",
     "text": [
      "Number of records in CSV file: 100\n",
      "First three records in CSV:\n",
      "                    timestamp package_id      city  latitude  longitude  \\\n",
      "0  2025-05-27 07:12:06.833283    PKG9346  Caloocan   14.6561   120.9830   \n",
      "1  2025-05-27 08:58:06.834998    PKG4537     Pasig   14.5764   121.0851   \n",
      "2  2025-05-27 13:02:06.835083    PKG2640  Caloocan   14.6561   120.9830   \n",
      "\n",
      "   temperature_celsius      status  \n",
      "0                 24.9  in transit  \n",
      "1                 28.6     delayed  \n",
      "2                 28.7     delayed  \n"
     ]
    }
   ],
   "source": [
    "import pandas as pd\n",
    "\n",
    "# Load your IoT data CSV\n",
    "df = pd.read_csv(\"iot_data.csv\")\n",
    "\n",
    "# Number of records in CSV file\n",
    "num_records = len(df)\n",
    "print(\"Number of records in CSV file:\", num_records)\n",
    "\n",
    "# First three records in CSV\n",
    "print(\"First three records in CSV:\")\n",
    "print(df.head(3))"
   ]
  },
  {
   "cell_type": "code",
   "execution_count": 9,
   "id": "e8985e02",
   "metadata": {},
   "outputs": [
    {
     "name": "stdout",
     "output_type": "stream",
     "text": [
      "Number of records successfully stored on blockchain: 100\n",
      "Transaction Hash of first stored record: 4d7b89c4590a6d41252dd9cd7346ffb31264b5504ed4f0285204f54834fa2d00\n",
      "Transaction Hash of last stored record: ad133afda1aefb1a8b5bd57c14f6256e981b6bca3d967325ef84710d5382d7d3\n"
     ]
    }
   ],
   "source": [
    "tx_hashes = []\n",
    "\n",
    "for idx, row in df.iterrows():\n",
    "    txn = contract.functions.storeUpdate(\n",
    "        str(row['package_id']),\n",
    "        str(row['city']),\n",
    "        int(row['latitude'] * 1e7),      # Convert to int for Solidity\n",
    "        int(row['longitude'] * 1e7),     # Convert to int for Solidity\n",
    "        int(row['temperature_celsius'] * 10),  # Convert to int for Solidity\n",
    "        str(row['status'])\n",
    "    ).transact({\n",
    "        'from': web3.eth.default_account,\n",
    "        'gas': 1000000\n",
    "    })\n",
    "    tx_hashes.append(txn.hex())  # Store the transaction hash\n",
    "\n",
    "print(\"Number of records successfully stored on blockchain:\", len(tx_hashes))\n",
    "print(\"Transaction Hash of first stored record:\", tx_hashes[0])\n",
    "print(\"Transaction Hash of last stored record:\", tx_hashes[-1])"
   ]
  },
  {
   "cell_type": "code",
   "execution_count": 10,
   "id": "f34c5406",
   "metadata": {},
   "outputs": [
    {
     "name": "stdout",
     "output_type": "stream",
     "text": [
      "Total records now stored on blockchain: 102\n",
      "First stored record retrieved from blockchain:\n",
      "Timestamp: 1749391666\n",
      "Device ID (Package ID): TESTPKG001\n",
      "City: Pasig\n",
      "Latitude: 14.5764\n",
      "Longitude: 121.0851\n",
      "Temperature (°C): 25.0\n",
      "Status: in transit\n"
     ]
    }
   ],
   "source": [
    "# Get all package IDs\n",
    "package_ids = contract.functions.getAllPackageIds().call()\n",
    "\n",
    "# Total records now stored on blockchain (sum of all updates for all packages)\n",
    "total_records = sum([contract.functions.getUpdateCount(pid).call() for pid in package_ids])\n",
    "print(\"Total records now stored on blockchain:\", total_records)\n",
    "\n",
    "# Get the first package ID and its first record\n",
    "first_package_id = package_ids[0]\n",
    "first_record = contract.functions.getUpdateByIndex(first_package_id, 0).call()\n",
    "\n",
    "print(\"First stored record retrieved from blockchain:\")\n",
    "print(\"Timestamp:\", first_record[0])\n",
    "print(\"Device ID (Package ID):\", first_package_id)\n",
    "print(\"City:\", first_record[1])\n",
    "print(\"Latitude:\", first_record[2] / 1e7)\n",
    "print(\"Longitude:\", first_record[3] / 1e7)\n",
    "print(\"Temperature (°C):\", first_record[4] / 10)\n",
    "print(\"Status:\", first_record[5])"
   ]
  },
  {
   "cell_type": "code",
   "execution_count": 11,
   "id": "14828994",
   "metadata": {},
   "outputs": [
    {
     "name": "stdout",
     "output_type": "stream",
     "text": [
      "                    timestamp package_id              city  latitude  \\\n",
      "0  2025-05-27 07:12:06.833283    PKG9346          Caloocan   14.6561   \n",
      "1  2025-05-27 08:58:06.834998    PKG4537             Pasig   14.5764   \n",
      "2  2025-05-27 13:02:06.835083    PKG2640          Caloocan   14.6561   \n",
      "3  2025-05-26 17:28:06.835105    PKG1173            Manila   14.5995   \n",
      "4  2025-05-27 05:20:06.835125    PKG1784  San Jose Bulacan   15.1502   \n",
      "\n",
      "   longitude  temperature_celsius      status  \n",
      "0   120.9830                 24.9  in transit  \n",
      "1   121.0851                 28.6     delayed  \n",
      "2   120.9830                 28.7     delayed  \n",
      "3   120.9842                 22.7     delayed  \n",
      "4   120.9696                 28.8     delayed  \n"
     ]
    }
   ],
   "source": [
    "import pandas as pd\n",
    "\n",
    "\n",
    "# Load IoT sensor data from CSV (Generated in Homework 1)\n",
    "df = pd.read_csv(\"iot_data.csv\")\n",
    "\n",
    "\n",
    "# Display the first few rows\n",
    "print(df.head())\n",
    "\n",
    "\n"
   ]
  },
  {
   "cell_type": "code",
   "execution_count": null,
   "id": "ca57338f",
   "metadata": {},
   "outputs": [
    {
     "name": "stdout",
     "output_type": "stream",
     "text": [
      "✅ Connected to Ganache successfully!\n"
     ]
    }
   ],
   "source": [
    "from web3 import Web3\n",
    "\n",
    "\n",
    "# Connect to local blockchain\n",
    "ganache_url = \"http://127.0.0.1:7545\"\n",
    "web3 = Web3(Web3.HTTPProvider(ganache_url))\n",
    "\n",
    "\n",
    "# Verify connection\n",
    "if web3.is_connected():\n",
    "    print(\"✅ Connected to Ganache successfully!\")\n",
    "else:\n",
    "    print(\"❌ Connection failed. Ensure Ganache is running.\")\n"
   ]
  },
  {
   "cell_type": "code",
   "execution_count": 18,
   "id": "0c423fd8",
   "metadata": {},
   "outputs": [
    {
     "name": "stdout",
     "output_type": "stream",
     "text": [
      "Total IoT records stored: 101\n"
     ]
    }
   ],
   "source": [
    "package_ids = contract.functions.getAllPackageIds().call()\n",
    "total_records = len(package_ids)\n",
    "print(f\"Total IoT records stored: {total_records}\")"
   ]
  },
  {
   "cell_type": "code",
   "execution_count": 19,
   "id": "ad0334db",
   "metadata": {},
   "outputs": [
    {
     "name": "stdout",
     "output_type": "stream",
     "text": [
      "    packageId           timestamp      city   latitude   longitude  \\\n",
      "0  TESTPKG001 2025-06-08 14:07:46     Pasig  145764000  1210851000   \n",
      "1  TESTPKG001 2025-06-08 14:16:22     Pasig  145764000  1210851000   \n",
      "2     PKG9346 2025-06-08 14:18:45  Caloocan  146561000  1209830000   \n",
      "3     PKG4537 2025-06-08 14:18:45     Pasig  145764000  1210851000   \n",
      "4     PKG2640 2025-06-08 14:18:45  Caloocan  146561000  1209830000   \n",
      "\n",
      "   temperatureCelsius      status  \n",
      "0                 250  in transit  \n",
      "1                 250  in transit  \n",
      "2                 249  in transit  \n",
      "3                 286     delayed  \n",
      "4                 287     delayed  \n"
     ]
    }
   ],
   "source": [
    "import pandas as pd\n",
    "\n",
    "# Step 1: Get all package IDs\n",
    "package_ids = contract.functions.getAllPackageIds().call()\n",
    "\n",
    "# Step 2: Retrieve all updates for each package\n",
    "data = []\n",
    "for package_id in package_ids:\n",
    "    update_count = contract.functions.getUpdateCount(package_id).call()\n",
    "    for index in range(update_count):\n",
    "        update = contract.functions.getUpdateByIndex(package_id, index).call()\n",
    "        data.append({\n",
    "            \"packageId\": package_id,\n",
    "            \"timestamp\": update[0],\n",
    "            \"city\": update[1],\n",
    "            \"latitude\": update[2],\n",
    "            \"longitude\": update[3],\n",
    "            \"temperatureCelsius\": update[4],\n",
    "            \"status\": update[5]\n",
    "        })\n",
    "\n",
    "# Step 3: Create a DataFrame\n",
    "df = pd.DataFrame(data)\n",
    "\n",
    "# Step 4: Convert timestamp to readable format\n",
    "df[\"timestamp\"] = pd.to_datetime(df[\"timestamp\"], unit=\"s\")\n",
    "\n",
    "# Step 5: Show the first few rows\n",
    "print(df.head())"
   ]
  },
  {
   "cell_type": "code",
   "execution_count": 20,
   "id": "0440c47f",
   "metadata": {},
   "outputs": [
    {
     "name": "stdout",
     "output_type": "stream",
     "text": [
      "    packageId           timestamp      city   latitude   longitude  \\\n",
      "0  TESTPKG001 2025-06-08 14:07:46     Pasig  145764000  1210851000   \n",
      "1  TESTPKG001 2025-06-08 14:16:22     Pasig  145764000  1210851000   \n",
      "2     PKG9346 2025-06-08 14:18:45  Caloocan  146561000  1209830000   \n",
      "3     PKG4537 2025-06-08 14:18:45     Pasig  145764000  1210851000   \n",
      "4     PKG2640 2025-06-08 14:18:45  Caloocan  146561000  1209830000   \n",
      "\n",
      "   temperatureCelsius      status  \n",
      "0                 250  in transit  \n",
      "1                 250  in transit  \n",
      "2                 249  in transit  \n",
      "3                 286     delayed  \n",
      "4                 287     delayed  \n"
     ]
    }
   ],
   "source": [
    "import numpy as np\n",
    "\n",
    "# Ensure 'temperatureCelsius' is numeric\n",
    "df[\"temperatureCelsius\"] = pd.to_numeric(df[\"temperatureCelsius\"], errors=\"coerce\")\n",
    "\n",
    "\n",
    "# Handle missing values in all columns\n",
    "df.fillna(0, inplace=True)\n",
    "\n",
    "# Display cleaned data\n",
    "print(df.head())"
   ]
  },
  {
   "cell_type": "code",
   "execution_count": 21,
   "id": "0ed00919",
   "metadata": {},
   "outputs": [
    {
     "name": "stdout",
     "output_type": "stream",
     "text": [
      "✅ Cleaned IoT data saved successfully as cleaned_iot_data.csv\n"
     ]
    }
   ],
   "source": [
    "# Save cleaned IoT data to a CSV file\n",
    "df.to_csv(\"cleaned_iot_data.csv\", index=False)\n",
    "\n",
    "print(\"✅ Cleaned IoT data saved successfully as cleaned_iot_data.csv\")\n"
   ]
  }
 ],
 "metadata": {
  "kernelspec": {
   "display_name": "Python 3",
   "language": "python",
   "name": "python3"
  },
  "language_info": {
   "codemirror_mode": {
    "name": "ipython",
    "version": 3
   },
   "file_extension": ".py",
   "mimetype": "text/x-python",
   "name": "python",
   "nbconvert_exporter": "python",
   "pygments_lexer": "ipython3",
   "version": "3.13.1"
  }
 },
 "nbformat": 4,
 "nbformat_minor": 5
}
