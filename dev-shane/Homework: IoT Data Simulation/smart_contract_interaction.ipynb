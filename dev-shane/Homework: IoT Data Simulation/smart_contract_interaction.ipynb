{
 "cells": [
  {
   "cell_type": "code",
   "execution_count": 1,
   "id": "c1f2e0e8",
   "metadata": {},
   "outputs": [
    {
     "name": "stdout",
     "output_type": "stream",
     "text": [
      "Requirement already satisfied: pandas in c:\\users\\xhen rii\\appdata\\local\\programs\\python\\python313\\lib\\site-packages (2.2.3)\n",
      "Requirement already satisfied: numpy in c:\\users\\xhen rii\\appdata\\local\\programs\\python\\python313\\lib\\site-packages (2.2.4)\n",
      "Requirement already satisfied: python-dateutil>=2.8.2 in c:\\users\\xhen rii\\appdata\\local\\programs\\python\\python313\\lib\\site-packages (from pandas) (2.9.0.post0)\n",
      "Requirement already satisfied: pytz>=2020.1 in c:\\users\\xhen rii\\appdata\\local\\programs\\python\\python313\\lib\\site-packages (from pandas) (2025.2)\n",
      "Requirement already satisfied: tzdata>=2022.7 in c:\\users\\xhen rii\\appdata\\local\\programs\\python\\python313\\lib\\site-packages (from pandas) (2024.2)\n",
      "Requirement already satisfied: six>=1.5 in c:\\users\\xhen rii\\appdata\\local\\programs\\python\\python313\\lib\\site-packages (from python-dateutil>=2.8.2->pandas) (1.17.0)\n"
     ]
    },
    {
     "name": "stderr",
     "output_type": "stream",
     "text": [
      "\n",
      "[notice] A new release of pip is available: 25.0 -> 25.1.1\n",
      "[notice] To update, run: python.exe -m pip install --upgrade pip\n"
     ]
    }
   ],
   "source": [
    "!pip install pandas numpy"
   ]
  },
  {
   "cell_type": "code",
   "execution_count": null,
   "id": "5a84f121",
   "metadata": {},
   "outputs": [
    {
     "data": {
      "text/html": [
       "<div>\n",
       "<style scoped>\n",
       "    .dataframe tbody tr th:only-of-type {\n",
       "        vertical-align: middle;\n",
       "    }\n",
       "\n",
       "    .dataframe tbody tr th {\n",
       "        vertical-align: top;\n",
       "    }\n",
       "\n",
       "    .dataframe thead th {\n",
       "        text-align: right;\n",
       "    }\n",
       "</style>\n",
       "<table border=\"1\" class=\"dataframe\">\n",
       "  <thead>\n",
       "    <tr style=\"text-align: right;\">\n",
       "      <th></th>\n",
       "      <th>timestamp</th>\n",
       "      <th>package_id</th>\n",
       "      <th>city</th>\n",
       "      <th>latitude</th>\n",
       "      <th>longitude</th>\n",
       "      <th>temperature_celsius</th>\n",
       "      <th>status</th>\n",
       "    </tr>\n",
       "  </thead>\n",
       "  <tbody>\n",
       "    <tr>\n",
       "      <th>0</th>\n",
       "      <td>2025-05-27 07:12:06.833283</td>\n",
       "      <td>PKG9346</td>\n",
       "      <td>Caloocan</td>\n",
       "      <td>14.6561</td>\n",
       "      <td>120.9830</td>\n",
       "      <td>24.9</td>\n",
       "      <td>in transit</td>\n",
       "    </tr>\n",
       "    <tr>\n",
       "      <th>1</th>\n",
       "      <td>2025-05-27 08:58:06.834998</td>\n",
       "      <td>PKG4537</td>\n",
       "      <td>Pasig</td>\n",
       "      <td>14.5764</td>\n",
       "      <td>121.0851</td>\n",
       "      <td>28.6</td>\n",
       "      <td>delayed</td>\n",
       "    </tr>\n",
       "    <tr>\n",
       "      <th>2</th>\n",
       "      <td>2025-05-27 13:02:06.835083</td>\n",
       "      <td>PKG2640</td>\n",
       "      <td>Caloocan</td>\n",
       "      <td>14.6561</td>\n",
       "      <td>120.9830</td>\n",
       "      <td>28.7</td>\n",
       "      <td>delayed</td>\n",
       "    </tr>\n",
       "    <tr>\n",
       "      <th>3</th>\n",
       "      <td>2025-05-26 17:28:06.835105</td>\n",
       "      <td>PKG1173</td>\n",
       "      <td>Manila</td>\n",
       "      <td>14.5995</td>\n",
       "      <td>120.9842</td>\n",
       "      <td>22.7</td>\n",
       "      <td>delayed</td>\n",
       "    </tr>\n",
       "    <tr>\n",
       "      <th>4</th>\n",
       "      <td>2025-05-27 05:20:06.835125</td>\n",
       "      <td>PKG1784</td>\n",
       "      <td>San Jose Bulacan</td>\n",
       "      <td>15.1502</td>\n",
       "      <td>120.9696</td>\n",
       "      <td>28.8</td>\n",
       "      <td>delayed</td>\n",
       "    </tr>\n",
       "  </tbody>\n",
       "</table>\n",
       "</div>"
      ],
      "text/plain": [
       "                   timestamp package_id              city  latitude  \\\n",
       "0 2025-05-27 07:12:06.833283    PKG9346          Caloocan   14.6561   \n",
       "1 2025-05-27 08:58:06.834998    PKG4537             Pasig   14.5764   \n",
       "2 2025-05-27 13:02:06.835083    PKG2640          Caloocan   14.6561   \n",
       "3 2025-05-26 17:28:06.835105    PKG1173            Manila   14.5995   \n",
       "4 2025-05-27 05:20:06.835125    PKG1784  San Jose Bulacan   15.1502   \n",
       "\n",
       "   longitude  temperature_celsius      status  \n",
       "0   120.9830                 24.9  in transit  \n",
       "1   121.0851                 28.6     delayed  \n",
       "2   120.9830                 28.7     delayed  \n",
       "3   120.9842                 22.7     delayed  \n",
       "4   120.9696                 28.8     delayed  "
      ]
     },
     "execution_count": 1,
     "metadata": {},
     "output_type": "execute_result"
    }
   ],
   "source": [
    "import pandas as pd\n",
    "import numpy as np\n",
    "from datetime import datetime, timedelta\n",
    "import random\n",
    "\n",
    "# sample locations\n",
    "locations = [\n",
    "    {\"city\": \"Caloocan\", \"lat\": 14.6561, \"lon\": 120.9830},\n",
    "    {\"city\": \"San Jose Bulacan\", \"lat\": 15.1502, \"lon\": 120.9696},\n",
    "    {\"city\": \"Pasig\", \"lat\": 14.5764, \"lon\": 121.0851},\n",
    "    {\"city\": \"Pasay\", \"lat\": 14.5378, \"lon\": 121.0014},\n",
    "    {\"city\": \"Manila\", \"lat\": 14.5995, \"lon\": 120.9842}\n",
    "]\n",
    "\n",
    "statuses = ['in transit', 'delivered', 'delayed']\n",
    "\n",
    "data = []\n",
    "num_records = 100  \n",
    "\n",
    "for _ in range(num_records):\n",
    "    loc = random.choice(locations)\n",
    "    record = {\n",
    "        \"timestamp\": datetime.now() - timedelta(minutes=np.random.randint(0, 1440)),\n",
    "        \"package_id\": f\"PKG{np.random.randint(1000, 9999)}\",\n",
    "        \"city\": loc[\"city\"],\n",
    "        \"latitude\": loc[\"lat\"],\n",
    "        \"longitude\": loc[\"lon\"],\n",
    "        \"temperature_celsius\": round(np.random.uniform(20.0, 30.0), 1),\n",
    "        \"status\": random.choice(statuses)\n",
    "    }\n",
    "    data.append(record)\n",
    "\n",
    "# convert to DataFrame\n",
    "df = pd.DataFrame(data)\n",
    "\n",
    "# display first few rows\n",
    "df.head()"
   ]
  },
  {
   "cell_type": "code",
   "execution_count": 2,
   "id": "590232b4",
   "metadata": {},
   "outputs": [
    {
     "name": "stdout",
     "output_type": "stream",
     "text": [
      "CSV file saved as iot_data.csv\n"
     ]
    }
   ],
   "source": [
    "# save the dataset as a CSV file\n",
    "df.to_csv(\"iot_data.csv\", index=False)\n",
    "print(\"CSV file saved as iot_data.csv\")"
   ]
  }
 ],
 "metadata": {
  "kernelspec": {
   "display_name": "Python 3",
   "language": "python",
   "name": "python3"
  },
  "language_info": {
   "codemirror_mode": {
    "name": "ipython",
    "version": 3
   },
   "file_extension": ".py",
   "mimetype": "text/x-python",
   "name": "python",
   "nbconvert_exporter": "python",
   "pygments_lexer": "ipython3",
   "version": "3.13.1"
  }
 },
 "nbformat": 4,
 "nbformat_minor": 5
}
