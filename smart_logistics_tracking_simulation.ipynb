{
 "cells": [
  {
   "cell_type": "code",
   "execution_count": 2,
   "id": "65219175-4eac-4112-81bd-675f51bbe2a0",
   "metadata": {},
   "outputs": [
    {
     "name": "stdout",
     "output_type": "stream",
     "text": [
      "Requirement already satisfied: pandas in c:\\users\\xhen rii\\appdata\\local\\programs\\python\\python313\\lib\\site-packages (2.2.3)\n",
      "Requirement already satisfied: numpy in c:\\users\\xhen rii\\appdata\\local\\programs\\python\\python313\\lib\\site-packages (2.2.4)\n",
      "Requirement already satisfied: python-dateutil>=2.8.2 in c:\\users\\xhen rii\\appdata\\local\\programs\\python\\python313\\lib\\site-packages (from pandas) (2.9.0.post0)\n",
      "Requirement already satisfied: pytz>=2020.1 in c:\\users\\xhen rii\\appdata\\local\\programs\\python\\python313\\lib\\site-packages (from pandas) (2025.2)\n",
      "Requirement already satisfied: tzdata>=2022.7 in c:\\users\\xhen rii\\appdata\\local\\programs\\python\\python313\\lib\\site-packages (from pandas) (2024.2)\n",
      "Requirement already satisfied: six>=1.5 in c:\\users\\xhen rii\\appdata\\local\\programs\\python\\python313\\lib\\site-packages (from python-dateutil>=2.8.2->pandas) (1.17.0)\n"
     ]
    },
    {
     "name": "stderr",
     "output_type": "stream",
     "text": [
      "\n",
      "[notice] A new release of pip is available: 25.0 -> 25.1.1\n",
      "[notice] To update, run: python.exe -m pip install --upgrade pip\n"
     ]
    }
   ],
   "source": [
    "!pip install pandas numpy"
   ]
  },
  {
   "cell_type": "code",
   "execution_count": 5,
   "id": "06793524-7730-478c-9ec9-b455a32e1956",
   "metadata": {},
   "outputs": [
    {
     "data": {
      "text/html": [
       "<div>\n",
       "<style scoped>\n",
       "    .dataframe tbody tr th:only-of-type {\n",
       "        vertical-align: middle;\n",
       "    }\n",
       "\n",
       "    .dataframe tbody tr th {\n",
       "        vertical-align: top;\n",
       "    }\n",
       "\n",
       "    .dataframe thead th {\n",
       "        text-align: right;\n",
       "    }\n",
       "</style>\n",
       "<table border=\"1\" class=\"dataframe\">\n",
       "  <thead>\n",
       "    <tr style=\"text-align: right;\">\n",
       "      <th></th>\n",
       "      <th>timestamp</th>\n",
       "      <th>package_id</th>\n",
       "      <th>location</th>\n",
       "      <th>temperature_celsius</th>\n",
       "      <th>status</th>\n",
       "    </tr>\n",
       "  </thead>\n",
       "  <tbody>\n",
       "    <tr>\n",
       "      <th>0</th>\n",
       "      <td>2025-05-10 02:06:18.473232</td>\n",
       "      <td>PKG6928</td>\n",
       "      <td>Pasig</td>\n",
       "      <td>20.4</td>\n",
       "      <td>delayed</td>\n",
       "    </tr>\n",
       "    <tr>\n",
       "      <th>1</th>\n",
       "      <td>2025-05-10 09:23:18.474489</td>\n",
       "      <td>PKG7988</td>\n",
       "      <td>Pasay</td>\n",
       "      <td>21.1</td>\n",
       "      <td>in transit</td>\n",
       "    </tr>\n",
       "    <tr>\n",
       "      <th>2</th>\n",
       "      <td>2025-05-10 20:42:18.474527</td>\n",
       "      <td>PKG1751</td>\n",
       "      <td>Pasig</td>\n",
       "      <td>27.5</td>\n",
       "      <td>delivered</td>\n",
       "    </tr>\n",
       "    <tr>\n",
       "      <th>3</th>\n",
       "      <td>2025-05-10 04:21:18.474551</td>\n",
       "      <td>PKG7678</td>\n",
       "      <td>Pasay</td>\n",
       "      <td>23.4</td>\n",
       "      <td>delayed</td>\n",
       "    </tr>\n",
       "    <tr>\n",
       "      <th>4</th>\n",
       "      <td>2025-05-10 08:52:18.474574</td>\n",
       "      <td>PKG7078</td>\n",
       "      <td>Caloocan</td>\n",
       "      <td>23.8</td>\n",
       "      <td>delayed</td>\n",
       "    </tr>\n",
       "  </tbody>\n",
       "</table>\n",
       "</div>"
      ],
      "text/plain": [
       "                   timestamp package_id  location  temperature_celsius  \\\n",
       "0 2025-05-10 02:06:18.473232    PKG6928     Pasig                 20.4   \n",
       "1 2025-05-10 09:23:18.474489    PKG7988     Pasay                 21.1   \n",
       "2 2025-05-10 20:42:18.474527    PKG1751     Pasig                 27.5   \n",
       "3 2025-05-10 04:21:18.474551    PKG7678     Pasay                 23.4   \n",
       "4 2025-05-10 08:52:18.474574    PKG7078  Caloocan                 23.8   \n",
       "\n",
       "       status  \n",
       "0     delayed  \n",
       "1  in transit  \n",
       "2   delivered  \n",
       "3     delayed  \n",
       "4     delayed  "
      ]
     },
     "execution_count": 5,
     "metadata": {},
     "output_type": "execute_result"
    }
   ],
   "source": [
    "import pandas as pd\n",
    "import numpy as np\n",
    "from datetime import datetime, timedelta\n",
    "import random\n",
    "\n",
    "\n",
    "locations = ['Caloocan', 'San Jose Bulacan', 'Pasig', 'Pasay', 'Manila']\n",
    "\n",
    "statuses = ['in transit', 'delivered', 'delayed']\n",
    "\n",
    "data = []\n",
    "num_records = 100 \n",
    "\n",
    "for _ in range(num_records):\n",
    "    record = {\n",
    "        \"timestamp\": datetime.now() - timedelta(minutes=np.random.randint(0, 1440)),\n",
    "        \"package_id\": f\"PKG{np.random.randint(1000, 9999)}\",\n",
    "        \"location\": random.choice(locations),\n",
    "        \"temperature_celsius\": round(np.random.uniform(20.0, 30.0), 1),\n",
    "        \"status\": random.choice(statuses)\n",
    "    }\n",
    "    data.append(record)\n",
    "\n",
    "df = pd.DataFrame(data)\n",
    "df.head()\n"
   ]
  },
  {
   "cell_type": "code",
   "execution_count": 6,
   "id": "06a04e8e-cb86-4806-9f52-01412b6148ee",
   "metadata": {},
   "outputs": [],
   "source": [
    "df.to_csv(\"smart_logistics_data.csv\", index=False)"
   ]
  },
  {
   "cell_type": "code",
   "execution_count": null,
   "id": "ba78d234-f9e7-43c2-9168-2a297359fb53",
   "metadata": {},
   "outputs": [],
   "source": []
  }
 ],
 "metadata": {
  "kernelspec": {
   "display_name": "Python 3 (ipykernel)",
   "language": "python",
   "name": "python3"
  },
  "language_info": {
   "codemirror_mode": {
    "name": "ipython",
    "version": 3
   },
   "file_extension": ".py",
   "mimetype": "text/x-python",
   "name": "python",
   "nbconvert_exporter": "python",
   "pygments_lexer": "ipython3",
   "version": "3.13.1"
  }
 },
 "nbformat": 4,
 "nbformat_minor": 5
}
